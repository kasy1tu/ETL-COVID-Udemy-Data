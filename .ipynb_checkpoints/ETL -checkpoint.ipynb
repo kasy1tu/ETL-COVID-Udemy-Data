{
 "cells": [
  {
   "cell_type": "code",
   "execution_count": 1,
   "metadata": {},
   "outputs": [],
   "source": [
    "import pandas as pd \n",
    "from sqlalchemy import create_engine\n"
   ]
  },
  {
   "cell_type": "code",
   "execution_count": 2,
   "metadata": {},
   "outputs": [],
   "source": [
    "# Load and read csv\n",
    "csv_file = \"./Resources/us_counties_covid.csv\"\n",
    "us_covid = pd.read_csv(csv_file)\n",
    "us_covid_df = us_covid[[\"date\", \"county\", \"state\", \"cases\", \"deaths\"]].copy()\n",
    "\n",
    "csv_file_2 = \"./Resources/udemy_courses.csv\"\n",
    "udemy_courses = pd.read_csv(csv_file_2)\n",
    "udemy_courses_df = udemy_courses[[\"course_id\", \"course_title\", \"price\", \"num_subscribers\", \"num_reviews\", \"num_lectures\",\n",
    "                                 \"level\", \"content_duration\",\"subject\"]].copy()"
   ]
  },
  {
   "cell_type": "markdown",
   "metadata": {},
   "source": [
    "### Load into pgAdmin\n",
    "\n",
    "```sql\n",
    "\n",
    "-- Create tables and load data\n",
    "-- Please use code below in pgAdmin\n",
    "\n",
    "DROP TABLE us_covid;\n",
    "DROP TABLE udemy_courses;\n",
    "\n",
    "CREATE TABLE us_covid(\n",
    "\tdate VARCHAR, \n",
    "\tcounty TEXT,\n",
    "\tstate TEXT, \n",
    "\tcases INT,\n",
    "\tdeaths INT\n",
    "); \n",
    "\n",
    "CREATE TABLE udemy_courses(\n",
    "\tCourse_ID INT,\n",
    "\tcourse_title TEXT, \n",
    "\tprice INT,\n",
    "\tnum_subscribers INT,\n",
    "\tnum_reviews INT,\n",
    "\tnum_lectures INT,\n",
    "\tlevel TEXT,\n",
    "\tcontent_duration DEC, \n",
    "\tsubject TEXT\n",
    ");\n",
    "\n",
    "SELECT * FROM us_covid;\n",
    "SELECT * FROM udemy_courses\n",
    "\n",
    "```"
   ]
  },
  {
   "cell_type": "code",
   "execution_count": 55,
   "metadata": {},
   "outputs": [],
   "source": [
    "# Establish connection \n",
    "\n",
    "connection_string = \"postgres:{insert PW}@localhost:5432/ETL\"\n",
    "engine = create_engine(f'postgresql://{connection_string}')"
   ]
  },
  {
   "cell_type": "code",
   "execution_count": 24,
   "metadata": {
    "scrolled": true
   },
   "outputs": [
    {
     "data": {
      "text/plain": [
       "['us_covid', 'udemy_courses']"
      ]
     },
     "execution_count": 24,
     "metadata": {},
     "output_type": "execute_result"
    }
   ],
   "source": [
    "# Print table names\n",
    "\n",
    "engine.table_names()"
   ]
  },
  {
   "cell_type": "code",
   "execution_count": 7,
   "metadata": {},
   "outputs": [],
   "source": [
    "# Load US COVID data\n",
    "\n",
    "us_covid_df.to_sql(name=\"us_covid\", con=engine, if_exists='append', index=False)"
   ]
  },
  {
   "cell_type": "code",
   "execution_count": 53,
   "metadata": {},
   "outputs": [],
   "source": [
    "# Load Udemy Courses data \n",
    "\n",
    "udemy_courses_df.to_sql(name=\"udemy_courses\", con=engine, if_exists='append', index=False)"
   ]
  }
 ],
 "metadata": {
  "kernelspec": {
   "display_name": "Python 3",
   "language": "python",
   "name": "python3"
  },
  "language_info": {
   "codemirror_mode": {
    "name": "ipython",
    "version": 3
   },
   "file_extension": ".py",
   "mimetype": "text/x-python",
   "name": "python",
   "nbconvert_exporter": "python",
   "pygments_lexer": "ipython3",
   "version": "3.8.5"
  }
 },
 "nbformat": 4,
 "nbformat_minor": 4
}
